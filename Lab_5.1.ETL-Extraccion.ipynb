{
 "cells": [
  {
   "cell_type": "code",
   "execution_count": 2,
   "metadata": {},
   "outputs": [],
   "source": [
    "# Importaciones:\n",
    "# Beautifulsoup\n",
    "from bs4 import BeautifulSoup\n",
    "\n",
    "# Requests\n",
    "import requests\n",
    "\n",
    "import pandas as pd\n",
    "import numpy as np\n",
    "import tqdm as tqdm\n",
    "from time import sleep\n",
    "import random\n",
    "import time\n",
    "\n",
    "# Importar librerías para automatización de navegadores web con Selenium\n",
    "# -----------------------------------------------------------------------\n",
    "from selenium import webdriver  # Selenium es una herramienta para automatizar la interacción con navegadores web.\n",
    "from webdriver_manager.chrome import ChromeDriverManager  # ChromeDriverManager gestiona la instalación del controlador de Chrome.\n",
    "from selenium.webdriver.common.keys import Keys  # Keys es útil para simular eventos de teclado en Selenium.\n",
    "from selenium.webdriver.support.ui import Select  # Select se utiliza para interactuar con elementos <select> en páginas web.\n",
    "from selenium.webdriver.support.ui import WebDriverWait\n",
    "from selenium.webdriver.support import expected_conditions as EC\n",
    "from selenium.common.exceptions import NoSuchElementException # Excepciones comunes de selenium que nos podemos encontrar \n",
    "from selenium.webdriver.common.by import By"
   ]
  },
  {
   "cell_type": "markdown",
   "metadata": {},
   "source": [
    "SCRAPPING INE"
   ]
  },
  {
   "cell_type": "code",
   "execution_count": 3,
   "metadata": {},
   "outputs": [
    {
     "name": "stdout",
     "output_type": "stream",
     "text": [
      "No encuentro el botón\n",
      "No encuentro si es 2019\n",
      "No encuentro provincia\n",
      "No encuentro el botón\n"
     ]
    }
   ],
   "source": [
    "url = \"https://www.ine.es/dyngs/INEbase/es/operacion.htm?c=Estadistica_C&cid=1254736177012&menu=resultados&idp=1254734710990\"\n",
    "\n",
    "chrome_options = webdriver.ChromeOptions()\n",
    "\n",
    "prefs = {\n",
    "    \"download.default_directory\": \"C:\\\\Users\\\\alexc\\\\Desktop\\\\GIT\\\\5.1.ETL-Extraccion\\\\data\",  # AQUÍ CADA UNO TENDREMOS QUE PONER LA RUTA QUE QUERAMOS PARA QUE SE GUARDEN LOS ARCHIVOS DESCARGADOS\n",
    "    \"download.prompt_for_download\": False,   # desactiva el diálogo que Chrome normalmente muestra para pedir confirmación del usuario antes de descargar un archivo\n",
    "    \"directory_upgrade\": True,    # hace que Chrome actualice el directorio de descarga predeterminado a la nueva ubicación especificada por download.default_directory si esta ha cambiado.\n",
    "}\n",
    "\n",
    "chrome_options.add_experimental_option(\"prefs\", prefs)\n",
    "driver = webdriver.Chrome(options=chrome_options)\n",
    "\n",
    "\n",
    "\n"
   ]
  },
  {
   "cell_type": "markdown",
   "metadata": {},
   "source": [
    "EXTRACCION API"
   ]
  },
  {
   "cell_type": "code",
   "execution_count": 43,
   "metadata": {},
   "outputs": [],
   "source": [
    "cod_comunidades = {'Ceuta': 8744,\n",
    "                    'Melilla': 8745,\n",
    "                    'Andalucía': 4,\n",
    "                    'Aragón': 5,\n",
    "                    'Cantabria': 6,\n",
    "                    'Castilla - La Mancha': 7,\n",
    "                    'Castilla y León': 8,\n",
    "                    'Cataluña': 9,\n",
    "                    'País Vasco': 10,\n",
    "                    'Principado de Asturias': 11,\n",
    "                    'Comunidad de Madrid': 13,\n",
    "                    'Comunidad Foral de Navarra': 14,\n",
    "                    'Comunitat Valenciana': 15,\n",
    "                    'Extremadura': 16,\n",
    "                    'Galicia': 17,\n",
    "                    'Illes Balears': 8743,\n",
    "                    'Canarias': 8742,\n",
    "                    'Región de Murcia': 21,\n",
    "                    'La Rioja': 20}"
   ]
  },
  {
   "cell_type": "code",
   "execution_count": 44,
   "metadata": {},
   "outputs": [],
   "source": [
    "ListIdcomunidades = list(cod_comunidades.values())"
   ]
  },
  {
   "cell_type": "code",
   "execution_count": 62,
   "metadata": {},
   "outputs": [],
   "source": [
    "# Definir URLs de los endpoints\n",
    "base_url_demanda = \"https://apidatos.ree.es/es/datos/demanda/evolucion\"\n",
    "base_url_generacion = \"https://apidatos.ree.es/es/datos/generacion/estructura-renovables\"\n",
    "headers = {'Accept': 'application/json'}\n",
    "\n",
    "# Función para extraer datos de un solo año\n",
    "def obtener_datos(tipo, anio, comunidad_id):\n",
    "    base_url = base_url_demanda if tipo == 'demanda' else base_url_generacion\n",
    "    fecha_inicio = f\"{anio}-01-01\"\n",
    "    fecha_fin = f\"{anio}-12-31\"\n",
    "    params = {'start_date': fecha_inicio,\n",
    "            'end_date': fecha_fin,\n",
    "            'time_trunc': 'month',\n",
    "            'geo_limit': 'ccaa',\n",
    "            'geo_ids': comunidad_id}\n",
    "    response = requests.get(base_url, headers=headers, params=params)\n",
    "    \n",
    "    # Revisar si la solicitud fue exitosa\n",
    "    if response.status_code == 200:\n",
    "        data = response.json()\n",
    "        valores = data['included'][0]['attributes']['values']\n",
    "        df = pd.DataFrame(valores)\n",
    "        df['Tipo'] = tipo\n",
    "        df['Id_Comunidad']=comunidad_id\n",
    "        return df\n",
    "    else:\n",
    "        print(f\"Error {response.status_code} al solicitar {tipo} para {comunidad_id} en el año {anio}\")\n",
    "        return pd.DataFrame()"
   ]
  },
  {
   "cell_type": "code",
   "execution_count": 55,
   "metadata": {},
   "outputs": [
    {
     "name": "stdout",
     "output_type": "stream",
     "text": [
      "Error 502 al solicitar generacion para 8744 en el año 2019\n",
      "Error 502 al solicitar generacion para 8744 en el año 2020\n",
      "Error 502 al solicitar generacion para 8744 en el año 2021\n"
     ]
    }
   ],
   "source": [
    "lista_años = list(range(2019, 2022))\n",
    "\n",
    "listadf_demanda=[]\n",
    "listadf_generacion=[]\n",
    "\n",
    "for id in ListIdcomunidades:\n",
    "    for año in lista_años:\n",
    "        datos_demanda = obtener_datos('demanda', año, id)\n",
    "        datos_generacion = obtener_datos('generacion',año, id)\n",
    "        listadf_demanda.append(datos_demanda)\n",
    "        listadf_generacion.append(datos_generacion)\n"
   ]
  },
  {
   "cell_type": "code",
   "execution_count": 58,
   "metadata": {},
   "outputs": [],
   "source": [
    "df_demanda=pd.concat(listadf_demanda,ignore_index=True)\n",
    "df_generacion=pd.concat(listadf_generacion,ignore_index=True)"
   ]
  },
  {
   "cell_type": "code",
   "execution_count": 63,
   "metadata": {},
   "outputs": [
    {
     "data": {
      "text/plain": [
       "value           float64\n",
       "percentage        int64\n",
       "datetime         object\n",
       "Tipo             object\n",
       "Id_Comunidad      int64\n",
       "dtype: object"
      ]
     },
     "execution_count": 63,
     "metadata": {},
     "output_type": "execute_result"
    }
   ],
   "source": [
    "df_demanda.dtypes"
   ]
  },
  {
   "cell_type": "code",
   "execution_count": 64,
   "metadata": {},
   "outputs": [
    {
     "data": {
      "text/plain": [
       "value           float64\n",
       "percentage      float64\n",
       "datetime         object\n",
       "Tipo             object\n",
       "Id_Comunidad      int64\n",
       "dtype: object"
      ]
     },
     "execution_count": 64,
     "metadata": {},
     "output_type": "execute_result"
    }
   ],
   "source": [
    "df_generacion.dtypes"
   ]
  }
 ],
 "metadata": {
  "kernelspec": {
   "display_name": "Python 3",
   "language": "python",
   "name": "python3"
  },
  "language_info": {
   "codemirror_mode": {
    "name": "ipython",
    "version": 3
   },
   "file_extension": ".py",
   "mimetype": "text/x-python",
   "name": "python",
   "nbconvert_exporter": "python",
   "pygments_lexer": "ipython3",
   "version": "3.12.7"
  }
 },
 "nbformat": 4,
 "nbformat_minor": 2
}
