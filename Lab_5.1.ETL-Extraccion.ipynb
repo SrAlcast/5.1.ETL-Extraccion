{
 "cells": [
  {
   "cell_type": "markdown",
   "metadata": {},
   "source": [
    "\n",
    "# Laboratorio ETL: Análisis del Sistema Energético en España\n",
    "\n",
    "## Objetivo\n",
    "\n",
    "Durante todos los laboratorios de esta semana realizarás un proceso completo de ETL para analizar la relación entre la demanda, el consumo y la generación eléctrica en diferentes provincias de España a lo largo de un año. Además, complementarán este análisis con datos demográficos y económicos extraídos del Instituto Nacional de Estadística (INE). El **objetivo principal** del análisis es **examinar cómo la demanda, el consumo y la generación eléctrica en diferentes provincias de España a lo largo de los años están influenciados por factores demográficos y económicos, como la población y el PIB provincial**. El análisis busca identificar patrones y correlaciones entre estas variables para comprender mejor las dinámicas energéticas regionales y su relación con el desarrollo socioeconómico en España.\n",
    "\n",
    "Antes de realizar el análisis, vamos a definir las hipótesis con las que vamos a trabajar, las cuales definirán todo tu análisis y planteamiento de los laboratorios: \n",
    "\n",
    "- **Hipótesis 1: La demanda eléctrica está correlacionada con la población de la provincia.** Provincias con mayor población tienden a tener una mayor demanda eléctrica.\n",
    "  \n",
    "- **Hipótesis 2: El crecimiento económico (medido por el PIB) está correlacionado con la demanda eléctrica.** Las provincias con un PIB más alto o en crecimiento experimentan una mayor demanda de energía.\n",
    "\n",
    "- **Hipótesis 3: La proporción de generación renovable está relacionada con factores económicos o geográficos.** Provincias con un mayor desarrollo económico o con condiciones geográficas favorables (como más horas de sol o viento) tienden a generar más energía renovable.\n",
    "\n",
    "\n",
    "## Tareas Laboratorio Extracción\n",
    "\n",
    "En el laboratorio de hoy tendrás que extraer la información necesaria para obtener tu objetivo de las siguientes fuentes de datos (deberás usar API's y herramientas de *web scrapping*):\n",
    "\n",
    "- **Datos de la API de Red Eléctrica Española (REE):** Deberás extraer datos mensuales a nivel provincial de los siguientes aspectos:\n",
    "\n",
    "  - **Demanda Eléctrica:** Nos proporciona los datos de demanda eléctrica a nivel provincial, agregados de manera mensual. Tendrás que usar el endpoint de \"https://apidatos.ree.es/es/datos/demanda/evolucion\", añadiendo los parámetros que sean necesarios. \n",
    "\n",
    "  - **Generación Eléctrica:** Nos proporciona los datos de generación eléctrica a nivel provincial, diferenciando entre fuentes de energía (eólica, solar, hidroeléctrica, etc.), agregados de manera mensual. Tendrás que usar el endpoint de \"https://apidatos.ree.es/es/datos/generacion/estructura-renovables\", añadiendo los parámetros que sean necesarios.\n",
    "\n",
    "  La documentación de la API la encontrarás en [este link](https://www.ree.es/es/apidatos). Recuerda leer en detenimiento la documentación. \n",
    "\n",
    "- **Datos del Instituto Nacional de Estadística (INE):** Además de los datos de la REE, debes extraer y utilizar datos socioeconómicos de las siguientes páginas del INE:\n",
    "\n",
    "- **Datos Demográficos:** Extraer los datos de población por provincias, diferenciando por grupos de edad, sexo, y extrajeros. Estos datos serán utilizados para analizar cómo la población afecta a la demanda eléctrica en cada provincia.\n",
    "\n",
    "  - **Página web:** [INE - Población por provincias](https://www.ine.es/dyngs/INEbase/es/operacion.htm?c=Estadistica_C&cid=1254736177012&menu=resultados&idp=1254734710990)\n",
    "\n",
    "  - \"Principales series 1998-2022\" --> \"Por provincia\" --> \" Población por provincias, edad (3 grupos de edad), españoles/Extranjeros, Sexo y año\"\n",
    "\n",
    "- **Datos Económicos:**\n",
    "\n",
    "  - **Página web:** [INE - PIB por provincias](https://www.ine.es/dynt3/inebase/es/index.htm?padre=10426&capsel=10429). \n",
    "\n",
    "  - **Pasos para la extracción**:\" Resultados provinciales. Serie contable 2016-2021\" --> \"P.I.B. a precios de mercado y valor añadido bruto a precios básicos por ramas de actividad: Precios corrientes por provincias y periodo.\"\n",
    "\n",
    "\n",
    "\n",
    "NOTA1: Tienes que sacar muchos datos, pero recuerda que hemos aprendido herramientas de asincronia que te pueden ayudar en este paso de la ETL. \n",
    "\n",
    "NOTA2: Todos estos datos los debes sacar para los años 2019-2020-2021"
   ]
  },
  {
   "cell_type": "code",
   "execution_count": 3,
   "metadata": {},
   "outputs": [],
   "source": [
    "# Importaciones:\n",
    "# Beautifulsoup\n",
    "from bs4 import BeautifulSoup\n",
    "\n",
    "# Requests\n",
    "import requests\n",
    "\n",
    "import pandas as pd\n",
    "import numpy as np\n",
    "import tqdm as tqdm\n",
    "from time import sleep\n",
    "import random\n",
    "import time\n",
    "\n",
    "# Importar librerías para automatización de navegadores web con Selenium\n",
    "# -----------------------------------------------------------------------\n",
    "from selenium import webdriver  # Selenium es una herramienta para automatizar la interacción con navegadores web.\n",
    "from webdriver_manager.chrome import ChromeDriverManager  # ChromeDriverManager gestiona la instalación del controlador de Chrome.\n",
    "from selenium.webdriver.common.keys import Keys  # Keys es útil para simular eventos de teclado en Selenium.\n",
    "from selenium.webdriver.support.ui import Select  # Select se utiliza para interactuar con elementos <select> en páginas web.\n",
    "from selenium.webdriver.support.ui import WebDriverWait\n",
    "from selenium.webdriver.support import expected_conditions as EC\n",
    "from selenium.common.exceptions import NoSuchElementException # Excepciones comunes de selenium que nos podemos encontrar \n",
    "from selenium.webdriver.common.by import By"
   ]
  },
  {
   "cell_type": "markdown",
   "metadata": {},
   "source": [
    "SCRAPPING INE"
   ]
  },
  {
   "cell_type": "markdown",
   "metadata": {},
   "source": [
    " **Datos Demográficos:** "
   ]
  },
  {
   "cell_type": "code",
   "execution_count": 11,
   "metadata": {},
   "outputs": [
    {
     "name": "stdout",
     "output_type": "stream",
     "text": [
      "no encuentro el botón de consulta\n",
      "no encuentro el botón de consulta\n"
     ]
    },
    {
     "ename": "NoSuchElementException",
     "evalue": "Message: no such element: Unable to locate element: {\"method\":\"xpath\",\"selector\":\"/html/body/div[1]/main/ul/li/div/div/form[2]/button/i\"}\n  (Session info: chrome=130.0.6723.70); For documentation on this error, please visit: https://www.selenium.dev/documentation/webdriver/troubleshooting/errors#no-such-element-exception\nStacktrace:\n\tGetHandleVerifier [0x00007FF650673AF5+28005]\n\t(No symbol) [0x00007FF6505D83F0]\n\t(No symbol) [0x00007FF65047580A]\n\t(No symbol) [0x00007FF6504C5A3E]\n\t(No symbol) [0x00007FF6504C5D2C]\n\t(No symbol) [0x00007FF65050EA97]\n\t(No symbol) [0x00007FF6504EBA7F]\n\t(No symbol) [0x00007FF65050B8B3]\n\t(No symbol) [0x00007FF6504EB7E3]\n\t(No symbol) [0x00007FF6504B75C8]\n\t(No symbol) [0x00007FF6504B8731]\n\tGetHandleVerifier [0x00007FF65096646D+3118813]\n\tGetHandleVerifier [0x00007FF6509B6CC0+3448624]\n\tGetHandleVerifier [0x00007FF6509ACF3D+3408301]\n\tGetHandleVerifier [0x00007FF65073A44B+841403]\n\t(No symbol) [0x00007FF6505E344F]\n\t(No symbol) [0x00007FF6505DF4C4]\n\t(No symbol) [0x00007FF6505DF65D]\n\t(No symbol) [0x00007FF6505CEBB9]\n\tBaseThreadInitThunk [0x00007FFF9138257D+29]\n\tRtlUserThreadStart [0x00007FFF91B4AF08+40]\n",
     "output_type": "error",
     "traceback": [
      "\u001b[1;31m---------------------------------------------------------------------------\u001b[0m",
      "\u001b[1;31mNoSuchElementException\u001b[0m                    Traceback (most recent call last)",
      "Cell \u001b[1;32mIn[11], line 48\u001b[0m\n\u001b[0;32m     46\u001b[0m     \u001b[38;5;28mprint\u001b[39m(\u001b[38;5;124m\"\u001b[39m\u001b[38;5;124mno encuentro el botón de consulta\u001b[39m\u001b[38;5;124m\"\u001b[39m)\n\u001b[0;32m     47\u001b[0m sleep(\u001b[38;5;241m2\u001b[39m)\n\u001b[1;32m---> 48\u001b[0m \u001b[43mdriver\u001b[49m\u001b[38;5;241;43m.\u001b[39;49m\u001b[43mfind_element\u001b[49m\u001b[43m(\u001b[49m\u001b[38;5;124;43m\"\u001b[39;49m\u001b[38;5;124;43mxpath\u001b[39;49m\u001b[38;5;124;43m\"\u001b[39;49m\u001b[43m,\u001b[49m\u001b[43m \u001b[49m\u001b[38;5;124;43m\"\u001b[39;49m\u001b[38;5;124;43m/html/body/div[1]/main/ul/li/div/div/form[2]/button/i\u001b[39;49m\u001b[38;5;124;43m\"\u001b[39;49m\u001b[43m)\u001b[49m\u001b[38;5;241m.\u001b[39mclick()\n\u001b[0;32m     49\u001b[0m iframe \u001b[38;5;241m=\u001b[39m WebDriverWait(driver, \u001b[38;5;241m10\u001b[39m)\u001b[38;5;241m.\u001b[39muntil(EC\u001b[38;5;241m.\u001b[39mpresence_of_element_located((By\u001b[38;5;241m.\u001b[39mXPATH, \u001b[38;5;124m'\u001b[39m\u001b[38;5;124m//*[@id=\u001b[39m\u001b[38;5;124m\"\u001b[39m\u001b[38;5;124mthickBoxINEfrm\u001b[39m\u001b[38;5;124m\"\u001b[39m\u001b[38;5;124m]\u001b[39m\u001b[38;5;124m'\u001b[39m)))\n\u001b[0;32m     50\u001b[0m driver\u001b[38;5;241m.\u001b[39mswitch_to\u001b[38;5;241m.\u001b[39mframe(iframe)\n",
      "File \u001b[1;32m~\\AppData\\Local\\Packages\\PythonSoftwareFoundation.Python.3.12_qbz5n2kfra8p0\\LocalCache\\local-packages\\Python312\\site-packages\\selenium\\webdriver\\remote\\webdriver.py:741\u001b[0m, in \u001b[0;36mWebDriver.find_element\u001b[1;34m(self, by, value)\u001b[0m\n\u001b[0;32m    738\u001b[0m     by \u001b[38;5;241m=\u001b[39m By\u001b[38;5;241m.\u001b[39mCSS_SELECTOR\n\u001b[0;32m    739\u001b[0m     value \u001b[38;5;241m=\u001b[39m \u001b[38;5;124mf\u001b[39m\u001b[38;5;124m'\u001b[39m\u001b[38;5;124m[name=\u001b[39m\u001b[38;5;124m\"\u001b[39m\u001b[38;5;132;01m{\u001b[39;00mvalue\u001b[38;5;132;01m}\u001b[39;00m\u001b[38;5;124m\"\u001b[39m\u001b[38;5;124m]\u001b[39m\u001b[38;5;124m'\u001b[39m\n\u001b[1;32m--> 741\u001b[0m \u001b[38;5;28;01mreturn\u001b[39;00m \u001b[38;5;28;43mself\u001b[39;49m\u001b[38;5;241;43m.\u001b[39;49m\u001b[43mexecute\u001b[49m\u001b[43m(\u001b[49m\u001b[43mCommand\u001b[49m\u001b[38;5;241;43m.\u001b[39;49m\u001b[43mFIND_ELEMENT\u001b[49m\u001b[43m,\u001b[49m\u001b[43m \u001b[49m\u001b[43m{\u001b[49m\u001b[38;5;124;43m\"\u001b[39;49m\u001b[38;5;124;43musing\u001b[39;49m\u001b[38;5;124;43m\"\u001b[39;49m\u001b[43m:\u001b[49m\u001b[43m \u001b[49m\u001b[43mby\u001b[49m\u001b[43m,\u001b[49m\u001b[43m \u001b[49m\u001b[38;5;124;43m\"\u001b[39;49m\u001b[38;5;124;43mvalue\u001b[39;49m\u001b[38;5;124;43m\"\u001b[39;49m\u001b[43m:\u001b[49m\u001b[43m \u001b[49m\u001b[43mvalue\u001b[49m\u001b[43m}\u001b[49m\u001b[43m)\u001b[49m[\u001b[38;5;124m\"\u001b[39m\u001b[38;5;124mvalue\u001b[39m\u001b[38;5;124m\"\u001b[39m]\n",
      "File \u001b[1;32m~\\AppData\\Local\\Packages\\PythonSoftwareFoundation.Python.3.12_qbz5n2kfra8p0\\LocalCache\\local-packages\\Python312\\site-packages\\selenium\\webdriver\\remote\\webdriver.py:347\u001b[0m, in \u001b[0;36mWebDriver.execute\u001b[1;34m(self, driver_command, params)\u001b[0m\n\u001b[0;32m    345\u001b[0m response \u001b[38;5;241m=\u001b[39m \u001b[38;5;28mself\u001b[39m\u001b[38;5;241m.\u001b[39mcommand_executor\u001b[38;5;241m.\u001b[39mexecute(driver_command, params)\n\u001b[0;32m    346\u001b[0m \u001b[38;5;28;01mif\u001b[39;00m response:\n\u001b[1;32m--> 347\u001b[0m     \u001b[38;5;28;43mself\u001b[39;49m\u001b[38;5;241;43m.\u001b[39;49m\u001b[43merror_handler\u001b[49m\u001b[38;5;241;43m.\u001b[39;49m\u001b[43mcheck_response\u001b[49m\u001b[43m(\u001b[49m\u001b[43mresponse\u001b[49m\u001b[43m)\u001b[49m\n\u001b[0;32m    348\u001b[0m     response[\u001b[38;5;124m\"\u001b[39m\u001b[38;5;124mvalue\u001b[39m\u001b[38;5;124m\"\u001b[39m] \u001b[38;5;241m=\u001b[39m \u001b[38;5;28mself\u001b[39m\u001b[38;5;241m.\u001b[39m_unwrap_value(response\u001b[38;5;241m.\u001b[39mget(\u001b[38;5;124m\"\u001b[39m\u001b[38;5;124mvalue\u001b[39m\u001b[38;5;124m\"\u001b[39m, \u001b[38;5;28;01mNone\u001b[39;00m))\n\u001b[0;32m    349\u001b[0m     \u001b[38;5;28;01mreturn\u001b[39;00m response\n",
      "File \u001b[1;32m~\\AppData\\Local\\Packages\\PythonSoftwareFoundation.Python.3.12_qbz5n2kfra8p0\\LocalCache\\local-packages\\Python312\\site-packages\\selenium\\webdriver\\remote\\errorhandler.py:229\u001b[0m, in \u001b[0;36mErrorHandler.check_response\u001b[1;34m(self, response)\u001b[0m\n\u001b[0;32m    227\u001b[0m         alert_text \u001b[38;5;241m=\u001b[39m value[\u001b[38;5;124m\"\u001b[39m\u001b[38;5;124malert\u001b[39m\u001b[38;5;124m\"\u001b[39m]\u001b[38;5;241m.\u001b[39mget(\u001b[38;5;124m\"\u001b[39m\u001b[38;5;124mtext\u001b[39m\u001b[38;5;124m\"\u001b[39m)\n\u001b[0;32m    228\u001b[0m     \u001b[38;5;28;01mraise\u001b[39;00m exception_class(message, screen, stacktrace, alert_text)  \u001b[38;5;66;03m# type: ignore[call-arg]  # mypy is not smart enough here\u001b[39;00m\n\u001b[1;32m--> 229\u001b[0m \u001b[38;5;28;01mraise\u001b[39;00m exception_class(message, screen, stacktrace)\n",
      "\u001b[1;31mNoSuchElementException\u001b[0m: Message: no such element: Unable to locate element: {\"method\":\"xpath\",\"selector\":\"/html/body/div[1]/main/ul/li/div/div/form[2]/button/i\"}\n  (Session info: chrome=130.0.6723.70); For documentation on this error, please visit: https://www.selenium.dev/documentation/webdriver/troubleshooting/errors#no-such-element-exception\nStacktrace:\n\tGetHandleVerifier [0x00007FF650673AF5+28005]\n\t(No symbol) [0x00007FF6505D83F0]\n\t(No symbol) [0x00007FF65047580A]\n\t(No symbol) [0x00007FF6504C5A3E]\n\t(No symbol) [0x00007FF6504C5D2C]\n\t(No symbol) [0x00007FF65050EA97]\n\t(No symbol) [0x00007FF6504EBA7F]\n\t(No symbol) [0x00007FF65050B8B3]\n\t(No symbol) [0x00007FF6504EB7E3]\n\t(No symbol) [0x00007FF6504B75C8]\n\t(No symbol) [0x00007FF6504B8731]\n\tGetHandleVerifier [0x00007FF65096646D+3118813]\n\tGetHandleVerifier [0x00007FF6509B6CC0+3448624]\n\tGetHandleVerifier [0x00007FF6509ACF3D+3408301]\n\tGetHandleVerifier [0x00007FF65073A44B+841403]\n\t(No symbol) [0x00007FF6505E344F]\n\t(No symbol) [0x00007FF6505DF4C4]\n\t(No symbol) [0x00007FF6505DF65D]\n\t(No symbol) [0x00007FF6505CEBB9]\n\tBaseThreadInitThunk [0x00007FFF9138257D+29]\n\tRtlUserThreadStart [0x00007FFF91B4AF08+40]\n"
     ]
    }
   ],
   "source": [
    "url = \"https://www.ine.es/dyngs/INEbase/es/operacion.htm?c=Estadistica_C&cid=1254736177012&menu=resultados&idp=1254734710990\"\n",
    "\n",
    "chrome_options = webdriver.ChromeOptions()\n",
    "\n",
    "prefs = {\n",
    "    \"download.default_directory\": \"C:\\\\Users\\\\alexc\\\\Desktop\\\\GIT\\\\5.1.ETL-Extraccion\\\\datos_demograficos\",  # AQUÍ CADA UNO TENDREMOS QUE PONER LA RUTA QUE QUERAMOS PARA QUE SE GUARDEN LOS ARCHIVOS DESCARGADOS\n",
    "    \"download.prompt_for_download\": False,   # desactiva el diálogo que Chrome normalmente muestra para pedir confirmación del usuario antes de descargar un archivo\n",
    "    \"directory_upgrade\": True,    # hace que Chrome actualice el directorio de descarga predeterminado a la nueva ubicación especificada por download.default_directory si esta ha cambiado.\n",
    "}\n",
    "\n",
    "chrome_options.add_experimental_option(\"prefs\", prefs)\n",
    "driver = webdriver.Chrome(options=chrome_options)\n",
    "\n",
    "driver.get(url)\n",
    "driver.maximize_window()\n",
    "driver.implicitly_wait(5)\n",
    "sleep(2)\n",
    "driver.find_element(\"css selector\", \"#aceptarCookie\")\n",
    "sleep(2)\n",
    "driver.find_element(\"xpath\", '/html/body/div[1]/main/section[2]/div[1]/div[1]/div[1]/ul/li/ul/li[2]/a').click()\n",
    "sleep(2)\n",
    "driver.find_element(\"xpath\", \"/html/body/div/main/div[2]/ul/li[3]/ul/li[1]/a\").click()\n",
    "sleep(2)\n",
    "for n in range(1, 4):\n",
    "    driver.find_element(\"xpath\", f\"//*[@id='tg{n}']/div/fieldset/div[2]/button[1]/i\").click()\n",
    "    sleep(1)\n",
    "sleep(2)\n",
    "driver.find_element(\"xpath\", \"/html/body/div/main/form/ul/li[1]/ul/li[5]/div/fieldset/div[3]/button[2]/i\").click()\n",
    "anios = driver.find_elements(\"css selector\", \"#periodo\")\n",
    "cant_anios = anios[0].find_elements(By.TAG_NAME, \"option\")\n",
    "sleep(1)\n",
    "for n in range(2, 5):\n",
    "    WebDriverWait(driver, 10).until(EC.element_to_be_clickable((By.XPATH, f'//*[@id=\"periodo\"]/option[{n}]'))).click()\n",
    "    sleep(1)\n",
    "\n",
    "# Seleccionar el iframe para descargar csv\n",
    "sleep(2)\n",
    "try:\n",
    "    driver.find_element(\"xpath\", \"/html/body/div[1]/main/form/div[5]/input[3]\").click()\n",
    "except:\n",
    "    print(\"no encuentro el botón de consulta\")\n",
    "sleep(2)\n",
    "try:\n",
    "    driver.find_element(\"css selector\", \"#botonConsulSele\").click()\n",
    "except:\n",
    "    print(\"no encuentro el botón de consulta\")\n",
    "sleep(2)\n",
    "driver.find_element(\"xpath\", \"/html/body/div[1]/main/ul/li/div/div/form[2]/button/i\").click()\n",
    "iframe = WebDriverWait(driver, 10).until(EC.presence_of_element_located((By.XPATH, '//*[@id=\"thickBoxINEfrm\"]')))\n",
    "driver.switch_to.frame(iframe)\n",
    "sleep(2)\n",
    "driver.find_element(\"xpath\", \"/html/body/form/ul/li[4]/label\").click()\n",
    "sleep(2)\n",
    "driver.switch_to.default_content()\n",
    "sleep(2)\n",
    "driver.close()\n",
    "\n"
   ]
  },
  {
   "cell_type": "markdown",
   "metadata": {},
   "source": [
    "**Datos Económicos:**"
   ]
  },
  {
   "cell_type": "code",
   "execution_count": 25,
   "metadata": {},
   "outputs": [
    {
     "name": "stdout",
     "output_type": "stream",
     "text": [
      "no encuentro el botón 4\n"
     ]
    },
    {
     "ename": "ElementClickInterceptedException",
     "evalue": "Message: element click intercepted: Element <input type=\"submit\" class=\"botonSel\" id=\"botonConsulSele\" name=\"consulsele\" value=\"Consultar selección\" onmouseover=\"\"> is not clickable at point (675, 628). Other element would receive the click: <p>...</p>\n  (Session info: chrome=130.0.6723.70)\nStacktrace:\n\tGetHandleVerifier [0x00007FF650673AF5+28005]\n\t(No symbol) [0x00007FF6505D83F0]\n\t(No symbol) [0x00007FF65047580A]\n\t(No symbol) [0x00007FF6504CD6CE]\n\t(No symbol) [0x00007FF6504CB16C]\n\t(No symbol) [0x00007FF6504C8628]\n\t(No symbol) [0x00007FF6504C785D]\n\t(No symbol) [0x00007FF6504B990E]\n\t(No symbol) [0x00007FF6504EBA3A]\n\t(No symbol) [0x00007FF6504B9246]\n\t(No symbol) [0x00007FF6504EBC50]\n\t(No symbol) [0x00007FF65050B8B3]\n\t(No symbol) [0x00007FF6504EB7E3]\n\t(No symbol) [0x00007FF6504B75C8]\n\t(No symbol) [0x00007FF6504B8731]\n\tGetHandleVerifier [0x00007FF65096646D+3118813]\n\tGetHandleVerifier [0x00007FF6509B6CC0+3448624]\n\tGetHandleVerifier [0x00007FF6509ACF3D+3408301]\n\tGetHandleVerifier [0x00007FF65073A44B+841403]\n\t(No symbol) [0x00007FF6505E344F]\n\t(No symbol) [0x00007FF6505DF4C4]\n\t(No symbol) [0x00007FF6505DF65D]\n\t(No symbol) [0x00007FF6505CEBB9]\n\tBaseThreadInitThunk [0x00007FFF9138257D+29]\n\tRtlUserThreadStart [0x00007FFF91B4AF08+40]\n",
     "output_type": "error",
     "traceback": [
      "\u001b[1;31m---------------------------------------------------------------------------\u001b[0m",
      "\u001b[1;31mElementClickInterceptedException\u001b[0m          Traceback (most recent call last)",
      "Cell \u001b[1;32mIn[25], line 55\u001b[0m\n\u001b[0;32m     53\u001b[0m driver\u001b[38;5;241m.\u001b[39mfind_element(\u001b[38;5;124m\"\u001b[39m\u001b[38;5;124mxpath\u001b[39m\u001b[38;5;124m\"\u001b[39m,\u001b[38;5;124m\"\u001b[39m\u001b[38;5;124m/html/body/div[1]/main/form/ul/li[1]/ul/li[4]/div/fieldset/select/option[2]\u001b[39m\u001b[38;5;124m\"\u001b[39m)\u001b[38;5;241m.\u001b[39mclick()  \n\u001b[0;32m     54\u001b[0m sleep(\u001b[38;5;241m2\u001b[39m)\n\u001b[1;32m---> 55\u001b[0m \u001b[43mdriver\u001b[49m\u001b[38;5;241;43m.\u001b[39;49m\u001b[43mfind_element\u001b[49m\u001b[43m(\u001b[49m\u001b[38;5;124;43m\"\u001b[39;49m\u001b[38;5;124;43mxpath\u001b[39;49m\u001b[38;5;124;43m\"\u001b[39;49m\u001b[43m,\u001b[49m\u001b[43m \u001b[49m\u001b[38;5;124;43m\"\u001b[39;49m\u001b[38;5;124;43m/html/body/div[1]/main/form/div[5]/input[3]\u001b[39;49m\u001b[38;5;124;43m\"\u001b[39;49m\u001b[43m)\u001b[49m\u001b[38;5;241;43m.\u001b[39;49m\u001b[43mclick\u001b[49m\u001b[43m(\u001b[49m\u001b[43m)\u001b[49m\n\u001b[0;32m     56\u001b[0m sleep(\u001b[38;5;241m2\u001b[39m)\n\u001b[0;32m     57\u001b[0m driver\u001b[38;5;241m.\u001b[39mfind_element(\u001b[38;5;124m\"\u001b[39m\u001b[38;5;124mcss selector\u001b[39m\u001b[38;5;124m\"\u001b[39m, \u001b[38;5;124m\"\u001b[39m\u001b[38;5;124m#botonConsulSele\u001b[39m\u001b[38;5;124m\"\u001b[39m)\u001b[38;5;241m.\u001b[39mclick()\n",
      "File \u001b[1;32m~\\AppData\\Local\\Packages\\PythonSoftwareFoundation.Python.3.12_qbz5n2kfra8p0\\LocalCache\\local-packages\\Python312\\site-packages\\selenium\\webdriver\\remote\\webelement.py:94\u001b[0m, in \u001b[0;36mWebElement.click\u001b[1;34m(self)\u001b[0m\n\u001b[0;32m     92\u001b[0m \u001b[38;5;28;01mdef\u001b[39;00m \u001b[38;5;21mclick\u001b[39m(\u001b[38;5;28mself\u001b[39m) \u001b[38;5;241m-\u001b[39m\u001b[38;5;241m>\u001b[39m \u001b[38;5;28;01mNone\u001b[39;00m:\n\u001b[0;32m     93\u001b[0m \u001b[38;5;250m    \u001b[39m\u001b[38;5;124;03m\"\"\"Clicks the element.\"\"\"\u001b[39;00m\n\u001b[1;32m---> 94\u001b[0m     \u001b[38;5;28;43mself\u001b[39;49m\u001b[38;5;241;43m.\u001b[39;49m\u001b[43m_execute\u001b[49m\u001b[43m(\u001b[49m\u001b[43mCommand\u001b[49m\u001b[38;5;241;43m.\u001b[39;49m\u001b[43mCLICK_ELEMENT\u001b[49m\u001b[43m)\u001b[49m\n",
      "File \u001b[1;32m~\\AppData\\Local\\Packages\\PythonSoftwareFoundation.Python.3.12_qbz5n2kfra8p0\\LocalCache\\local-packages\\Python312\\site-packages\\selenium\\webdriver\\remote\\webelement.py:395\u001b[0m, in \u001b[0;36mWebElement._execute\u001b[1;34m(self, command, params)\u001b[0m\n\u001b[0;32m    393\u001b[0m     params \u001b[38;5;241m=\u001b[39m {}\n\u001b[0;32m    394\u001b[0m params[\u001b[38;5;124m\"\u001b[39m\u001b[38;5;124mid\u001b[39m\u001b[38;5;124m\"\u001b[39m] \u001b[38;5;241m=\u001b[39m \u001b[38;5;28mself\u001b[39m\u001b[38;5;241m.\u001b[39m_id\n\u001b[1;32m--> 395\u001b[0m \u001b[38;5;28;01mreturn\u001b[39;00m \u001b[38;5;28;43mself\u001b[39;49m\u001b[38;5;241;43m.\u001b[39;49m\u001b[43m_parent\u001b[49m\u001b[38;5;241;43m.\u001b[39;49m\u001b[43mexecute\u001b[49m\u001b[43m(\u001b[49m\u001b[43mcommand\u001b[49m\u001b[43m,\u001b[49m\u001b[43m \u001b[49m\u001b[43mparams\u001b[49m\u001b[43m)\u001b[49m\n",
      "File \u001b[1;32m~\\AppData\\Local\\Packages\\PythonSoftwareFoundation.Python.3.12_qbz5n2kfra8p0\\LocalCache\\local-packages\\Python312\\site-packages\\selenium\\webdriver\\remote\\webdriver.py:347\u001b[0m, in \u001b[0;36mWebDriver.execute\u001b[1;34m(self, driver_command, params)\u001b[0m\n\u001b[0;32m    345\u001b[0m response \u001b[38;5;241m=\u001b[39m \u001b[38;5;28mself\u001b[39m\u001b[38;5;241m.\u001b[39mcommand_executor\u001b[38;5;241m.\u001b[39mexecute(driver_command, params)\n\u001b[0;32m    346\u001b[0m \u001b[38;5;28;01mif\u001b[39;00m response:\n\u001b[1;32m--> 347\u001b[0m     \u001b[38;5;28;43mself\u001b[39;49m\u001b[38;5;241;43m.\u001b[39;49m\u001b[43merror_handler\u001b[49m\u001b[38;5;241;43m.\u001b[39;49m\u001b[43mcheck_response\u001b[49m\u001b[43m(\u001b[49m\u001b[43mresponse\u001b[49m\u001b[43m)\u001b[49m\n\u001b[0;32m    348\u001b[0m     response[\u001b[38;5;124m\"\u001b[39m\u001b[38;5;124mvalue\u001b[39m\u001b[38;5;124m\"\u001b[39m] \u001b[38;5;241m=\u001b[39m \u001b[38;5;28mself\u001b[39m\u001b[38;5;241m.\u001b[39m_unwrap_value(response\u001b[38;5;241m.\u001b[39mget(\u001b[38;5;124m\"\u001b[39m\u001b[38;5;124mvalue\u001b[39m\u001b[38;5;124m\"\u001b[39m, \u001b[38;5;28;01mNone\u001b[39;00m))\n\u001b[0;32m    349\u001b[0m     \u001b[38;5;28;01mreturn\u001b[39;00m response\n",
      "File \u001b[1;32m~\\AppData\\Local\\Packages\\PythonSoftwareFoundation.Python.3.12_qbz5n2kfra8p0\\LocalCache\\local-packages\\Python312\\site-packages\\selenium\\webdriver\\remote\\errorhandler.py:229\u001b[0m, in \u001b[0;36mErrorHandler.check_response\u001b[1;34m(self, response)\u001b[0m\n\u001b[0;32m    227\u001b[0m         alert_text \u001b[38;5;241m=\u001b[39m value[\u001b[38;5;124m\"\u001b[39m\u001b[38;5;124malert\u001b[39m\u001b[38;5;124m\"\u001b[39m]\u001b[38;5;241m.\u001b[39mget(\u001b[38;5;124m\"\u001b[39m\u001b[38;5;124mtext\u001b[39m\u001b[38;5;124m\"\u001b[39m)\n\u001b[0;32m    228\u001b[0m     \u001b[38;5;28;01mraise\u001b[39;00m exception_class(message, screen, stacktrace, alert_text)  \u001b[38;5;66;03m# type: ignore[call-arg]  # mypy is not smart enough here\u001b[39;00m\n\u001b[1;32m--> 229\u001b[0m \u001b[38;5;28;01mraise\u001b[39;00m exception_class(message, screen, stacktrace)\n",
      "\u001b[1;31mElementClickInterceptedException\u001b[0m: Message: element click intercepted: Element <input type=\"submit\" class=\"botonSel\" id=\"botonConsulSele\" name=\"consulsele\" value=\"Consultar selección\" onmouseover=\"\"> is not clickable at point (675, 628). Other element would receive the click: <p>...</p>\n  (Session info: chrome=130.0.6723.70)\nStacktrace:\n\tGetHandleVerifier [0x00007FF650673AF5+28005]\n\t(No symbol) [0x00007FF6505D83F0]\n\t(No symbol) [0x00007FF65047580A]\n\t(No symbol) [0x00007FF6504CD6CE]\n\t(No symbol) [0x00007FF6504CB16C]\n\t(No symbol) [0x00007FF6504C8628]\n\t(No symbol) [0x00007FF6504C785D]\n\t(No symbol) [0x00007FF6504B990E]\n\t(No symbol) [0x00007FF6504EBA3A]\n\t(No symbol) [0x00007FF6504B9246]\n\t(No symbol) [0x00007FF6504EBC50]\n\t(No symbol) [0x00007FF65050B8B3]\n\t(No symbol) [0x00007FF6504EB7E3]\n\t(No symbol) [0x00007FF6504B75C8]\n\t(No symbol) [0x00007FF6504B8731]\n\tGetHandleVerifier [0x00007FF65096646D+3118813]\n\tGetHandleVerifier [0x00007FF6509B6CC0+3448624]\n\tGetHandleVerifier [0x00007FF6509ACF3D+3408301]\n\tGetHandleVerifier [0x00007FF65073A44B+841403]\n\t(No symbol) [0x00007FF6505E344F]\n\t(No symbol) [0x00007FF6505DF4C4]\n\t(No symbol) [0x00007FF6505DF65D]\n\t(No symbol) [0x00007FF6505CEBB9]\n\tBaseThreadInitThunk [0x00007FFF9138257D+29]\n\tRtlUserThreadStart [0x00007FFF91B4AF08+40]\n"
     ]
    }
   ],
   "source": [
    "url = \"https://www.ine.es/dynt3/inebase/es/index.htm?padre=10426\"\n",
    "\n",
    "chrome_options = webdriver.ChromeOptions()\n",
    "\n",
    "prefs = {\n",
    "    \"download.default_directory\": \"C:\\\\Users\\\\alexc\\\\Desktop\\\\GIT\\\\5.1.ETL-Extraccion\\\\datos_economicos\",  # AQUÍ CADA UNO TENDREMOS QUE PONER LA RUTA QUE QUERAMOS PARA QUE SE GUARDEN LOS ARCHIVOS DESCARGADOS\n",
    "    \"download.prompt_for_download\": False,   # desactiva el diálogo que Chrome normalmente muestra para pedir confirmación del usuario antes de descargar un archivo\n",
    "    \"directory_upgrade\": True,    # hace que Chrome actualice el directorio de descarga predeterminado a la nueva ubicación especificada por download.default_directory si esta ha cambiado.\n",
    "}\n",
    "\n",
    "chrome_options.add_experimental_option(\"prefs\", prefs)\n",
    "driver = webdriver.Chrome(options=chrome_options)\n",
    "\n",
    "driver.get(url)\n",
    "driver.maximize_window()\n",
    "driver.implicitly_wait(5)\n",
    "sleep(2)\n",
    "try:\n",
    "    driver.find_element(\"css selector\", \"#aceptarCookie\")\n",
    "except:\n",
    "    print(\"no encuentro el botón de cookies\")\n",
    "sleep(2)\n",
    "try:\n",
    "    driver.find_element(\"css selector\", '#c_10428').click()\n",
    "except:\n",
    "    print(\"no encuentro el botón de categoria\")\n",
    "sleep(2)\n",
    "try:\n",
    "    driver.find_element(\"xpath\", '/html/body/div[1]/main/div[2]/ul/li[2]/ul/li[1]/a').click()\n",
    "except:\n",
    "    print(\"no encuentro el botón desubcar2\")\n",
    "sleep(2)\n",
    "for n in range(1, 16):\n",
    "    driver.find_element(\"xpath\", f\"/html/body/div[1]/main/form/ul/li[1]/ul/li[2]/div/fieldset/select/option[{n}]\").click()\n",
    "    sleep(1)\n",
    "driver.find_element(\"xpath\",\"/html/body/div[1]/main/form/ul/li[1]/ul/li[2]/div/fieldset/select/option[1]\").click()\n",
    "sleep(2)\n",
    "for i in range(1, 5):\n",
    "    try:\n",
    "        driver.find_element(\"xpath\", f\"/html/body/div[1]/main/form/ul/li[1]/ul/li[3]/div/fieldset/select/option[{i}]\").click()\n",
    "        sleep(1)\n",
    "    except:\n",
    "        print(f\"no encuentro el botón {i}\")\n",
    "driver.find_element(\"xpath\",\"/html/body/div[1]/main/form/ul/li[1]/ul/li[3]/div/fieldset/select/option[1]\").click()  \n",
    "\n",
    "for j in range(2, 5):\n",
    "    try:\n",
    "        driver.find_element(\"xpath\", f\"/html/body/div[1]/main/form/ul/li[1]/ul/li[4]/div/fieldset/select/option[{j}]\").click()\n",
    "        sleep(1)\n",
    "    except:\n",
    "        print(f\"no encuentro el botón {j}\")\n",
    "\n",
    "driver.find_element(\"xpath\",\"/html/body/div[1]/main/form/ul/li[1]/ul/li[4]/div/fieldset/select/option[2]\").click()  \n",
    "sleep(2)\n",
    "driver.find_element(\"xpath\", \"/html/body/div[1]/main/form/div[5]/input[3]\").click()\n",
    "sleep(2)\n",
    "driver.find_element(\"css selector\", \"#botonConsulSele\").click()\n",
    "sleep(2)\n",
    "driver.find_element(\"xpath\", \"/html/body/div[1]/main/ul/li/div/div/form[2]/button/i\").click()\n",
    "iframe = WebDriverWait(driver, 10).until(EC.presence_of_element_located((By.XPATH, '//*[@id=\"thickBoxINEfrm\"]')))\n",
    "driver.switch_to.frame(iframe)\n",
    "sleep(2)\n",
    "driver.find_element(\"xpath\", \"/html/body/form/ul/li[4]/label\").click()\n",
    "sleep(2)\n",
    "driver.switch_to.default_content()\n",
    "sleep(2)\n",
    "driver.close()"
   ]
  },
  {
   "cell_type": "code",
   "execution_count": 19,
   "metadata": {},
   "outputs": [
    {
     "data": {
      "text/plain": [
       "[2, 3]"
      ]
     },
     "execution_count": 19,
     "metadata": {},
     "output_type": "execute_result"
    }
   ],
   "source": [
    "list(range(2, 4))"
   ]
  },
  {
   "cell_type": "markdown",
   "metadata": {},
   "source": [
    "EXTRACCION API"
   ]
  },
  {
   "cell_type": "code",
   "execution_count": 14,
   "metadata": {},
   "outputs": [],
   "source": [
    "cod_comunidades = {'Ceuta': 8744,\n",
    "                    'Melilla': 8745,\n",
    "                    'Andalucía': 4,\n",
    "                    'Aragón': 5,\n",
    "                    'Cantabria': 6,\n",
    "                    'Castilla - La Mancha': 7,\n",
    "                    'Castilla y León': 8,\n",
    "                    'Cataluña': 9,\n",
    "                    'País Vasco': 10,\n",
    "                    'Principado de Asturias': 11,\n",
    "                    'Comunidad de Madrid': 13,\n",
    "                    'Comunidad Foral de Navarra': 14,\n",
    "                    'Comunitat Valenciana': 15,\n",
    "                    'Extremadura': 16,\n",
    "                    'Galicia': 17,\n",
    "                    'Illes Balears': 8743,\n",
    "                    'Canarias': 8742,\n",
    "                    'Región de Murcia': 21,\n",
    "                    'La Rioja': 20}"
   ]
  },
  {
   "cell_type": "code",
   "execution_count": 15,
   "metadata": {},
   "outputs": [],
   "source": [
    "ListIdcomunidades = list(cod_comunidades.values())"
   ]
  },
  {
   "cell_type": "code",
   "execution_count": 16,
   "metadata": {},
   "outputs": [],
   "source": [
    "# Definir URLs de los endpoints\n",
    "base_url_demanda = \"https://apidatos.ree.es/es/datos/demanda/evolucion\"\n",
    "base_url_generacion = \"https://apidatos.ree.es/es/datos/generacion/estructura-renovables\"\n",
    "headers = {'Accept': 'application/json'}\n",
    "\n",
    "# Función para extraer datos de un solo año\n",
    "def obtener_datos(tipo, anio, comunidad_id):\n",
    "    base_url = base_url_demanda if tipo == 'demanda' else base_url_generacion\n",
    "    fecha_inicio = f\"{anio}-01-01\"\n",
    "    fecha_fin = f\"{anio}-12-31\"\n",
    "    params = {'start_date': fecha_inicio,\n",
    "            'end_date': fecha_fin,\n",
    "            'time_trunc': 'month',\n",
    "            'geo_limit': 'ccaa',\n",
    "            'geo_ids': comunidad_id}\n",
    "    response = requests.get(base_url, headers=headers, params=params)\n",
    "    \n",
    "    # Revisar si la solicitud fue exitosa\n",
    "    if response.status_code == 200:\n",
    "        data = response.json()\n",
    "        valores = data['included'][0]['attributes']['values']\n",
    "        df = pd.DataFrame(valores)\n",
    "        df['Tipo'] = tipo\n",
    "        df['Id_Comunidad']=comunidad_id\n",
    "        return df\n",
    "    else:\n",
    "        print(f\"Error {response.status_code} al solicitar {tipo} para {comunidad_id} en el año {anio}\")\n",
    "        return pd.DataFrame()"
   ]
  },
  {
   "cell_type": "code",
   "execution_count": 17,
   "metadata": {},
   "outputs": [
    {
     "name": "stdout",
     "output_type": "stream",
     "text": [
      "Error 502 al solicitar generacion para 8744 en el año 2019\n",
      "Error 502 al solicitar generacion para 8744 en el año 2020\n",
      "Error 502 al solicitar generacion para 8744 en el año 2021\n"
     ]
    }
   ],
   "source": [
    "lista_años = list(range(2019, 2022))\n",
    "\n",
    "listadf_demanda=[]\n",
    "listadf_generacion=[]\n",
    "\n",
    "for id in ListIdcomunidades:\n",
    "    for año in lista_años:\n",
    "        datos_demanda = obtener_datos('demanda', año, id)\n",
    "        datos_generacion = obtener_datos('generacion',año, id)\n",
    "        listadf_demanda.append(datos_demanda)\n",
    "        listadf_generacion.append(datos_generacion)\n"
   ]
  },
  {
   "cell_type": "code",
   "execution_count": 18,
   "metadata": {},
   "outputs": [],
   "source": [
    "df_demanda=pd.concat(listadf_demanda,ignore_index=True)\n",
    "df_generacion=pd.concat(listadf_generacion,ignore_index=True)"
   ]
  },
  {
   "cell_type": "code",
   "execution_count": 19,
   "metadata": {},
   "outputs": [
    {
     "data": {
      "text/plain": [
       "value           float64\n",
       "percentage        int64\n",
       "datetime         object\n",
       "Tipo             object\n",
       "Id_Comunidad      int64\n",
       "dtype: object"
      ]
     },
     "execution_count": 19,
     "metadata": {},
     "output_type": "execute_result"
    }
   ],
   "source": [
    "df_demanda.dtypes"
   ]
  },
  {
   "cell_type": "code",
   "execution_count": 23,
   "metadata": {},
   "outputs": [
    {
     "data": {
      "text/plain": [
       "value           float64\n",
       "percentage      float64\n",
       "datetime         object\n",
       "Tipo             object\n",
       "Id_Comunidad      int64\n",
       "dtype: object"
      ]
     },
     "execution_count": 23,
     "metadata": {},
     "output_type": "execute_result"
    }
   ],
   "source": [
    "df_generacion.dtypes"
   ]
  },
  {
   "cell_type": "code",
   "execution_count": 27,
   "metadata": {},
   "outputs": [],
   "source": [
    "df_demanda.to_csv(\"./data/datosdemanda.csv\")\n",
    "df_generacion.to_csv(\"./data/datosgeneración.csv\")"
   ]
  }
 ],
 "metadata": {
  "kernelspec": {
   "display_name": "Python 3",
   "language": "python",
   "name": "python3"
  },
  "language_info": {
   "codemirror_mode": {
    "name": "ipython",
    "version": 3
   },
   "file_extension": ".py",
   "mimetype": "text/x-python",
   "name": "python",
   "nbconvert_exporter": "python",
   "pygments_lexer": "ipython3",
   "version": "3.12.7"
  }
 },
 "nbformat": 4,
 "nbformat_minor": 2
}
